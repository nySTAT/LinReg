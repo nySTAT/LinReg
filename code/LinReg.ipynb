{
 "cells": [
  {
   "cell_type": "markdown",
   "metadata": {
    "id": "azp3rW-r8Yub"
   },
   "source": [
    "# Simple Linear Regression\n"
   ]
  },
  {
   "cell_type": "markdown",
   "metadata": {
    "id": "cH0W4Qsv8Yuc"
   },
   "source": [
    "We will apply the simple linear regression to a supernova data set to estimate the age of the universe.\n",
    "We begin with the standard imports:"
   ]
  },
  {
   "cell_type": "code",
   "execution_count": 1,
   "metadata": {
    "id": "q7LDkSW18Yuc"
   },
   "outputs": [],
   "source": [
    "%matplotlib inline\n",
    "import matplotlib.pyplot as plt\n",
    "import numpy as np\n",
    "import pandas as pd"
   ]
  },
  {
   "cell_type": "markdown",
   "metadata": {
    "id": "a7CUsq7F8Yud"
   },
   "source": [
    "Recall a simple linear regression is a straight-line fit to data and takes the form\n",
    "$$\n",
    "y = ax + b\n",
    "$$\n",
    "where $a$ is the *slope*, and $b$ is the *intercept*."
   ]
  },
  {
   "cell_type": "markdown",
   "metadata": {
    "id": "Xd5BP67HNEVd"
   },
   "source": [
    "### Big Bang Theory\n",
    "\n",
    "In the early 20th century, the most popular cosmological theory suggested that the universe had always existed at a fixed size. Today, the Big Bang theory prevails: Our universe started out very small and is still expanding. A consequence of this is Hubble's Law, which states that every celestial object that's reasonably far away from Earth (for example, another galaxy) is moving away from us at a constant speed. If we extrapolate that motion backwards to the time when everything in the universe was in the same place, that time is (roughly) the beginning of the universe! Scientists have used this fact, along with measurements of the current location and movement speed of other celestial objects, to estimate the age of the universe.\n",
    "\n",
    "We need to know the distance-from-Earth and speed-away-from-Earth of many celestial objects. Using pictures taken by very accurate telescopes and a lot of physics, astronomers have been able to estimate both. It turns out that nearby supernovae -- stars that have recently died and exploded -- are among the best sources of this data, because they are very easy to see. This picture taken by the Hubble telescope shows an entire galaxy, with a single supernova - as bright by itself as billions of stars - at the bottom left.\n",
    "\n",
    "![](galaxy.png)"
   ]
  },
  {
   "cell_type": "markdown",
   "metadata": {
    "id": "6PUVIVHjNEEA"
   },
   "source": [
    "### Supernova Data\n",
    "\n",
    "Let's read and plot the supernova data set which records the distance-from-Earth (in million parsecs) and speed-away-from-Earth (in parsecs per year) of 156 supernovae:"
   ]
  },
  {
   "cell_type": "code",
   "execution_count": 2,
   "metadata": {
    "colab": {
     "base_uri": "https://localhost:8080/",
     "height": 268
    },
    "id": "TqAO2ne58Yud",
    "outputId": "ca74b0c2-1907-4950-802d-68b4ec277903"
   },
   "outputs": [
    {
     "data": {
      "image/png": "[encoded data removed]",
      "text/plain": [
       "<Figure size 432x288 with 1 Axes>"
      ]
     },
     "metadata": {
      "needs_background": "light"
     },
     "output_type": "display_data"
    }
   ],
   "source": [
    "data = pd.read_csv(\"supernova.csv\") #read the data\n",
    "plt.scatter(data['Speed'],data['Distance'],color=\"Black\"); #make the scatter plot"
   ]
  },
  {
   "cell_type": "markdown",
   "metadata": {
    "id": "-XtQhWnF8Yuf"
   },
   "source": [
    "We can use Scikit-Learn's ``LinearRegression`` to fit this data and construct the best-fit line:"
   ]
  },
  {
   "cell_type": "code",
   "execution_count": 3,
   "metadata": {
    "colab": {
     "base_uri": "https://localhost:8080/",
     "height": 268
    },
    "id": "txREqhwY8Yuf",
    "outputId": "b614dfba-4655-47c9-ae71-c31fe2f5d37a"
   },
   "outputs": [
    {
     "data": {
      "image/png": "[encoded data removed]",
      "text/plain": [
       "<Figure size 432x288 with 1 Axes>"
      ]
     },
     "metadata": {
      "needs_background": "light"
     },
     "output_type": "display_data"
    }
   ],
   "source": [
    "from sklearn.linear_model import LinearRegression\n",
    "model = LinearRegression(fit_intercept=True)\n",
    "\n",
    "model.fit(data[['Speed']], data['Distance']) #fit the simple linear regression\n",
    "\n",
    "xfit = np.linspace(min(data['Speed']), max(data['Speed']), 1000).reshape((-1, 1))\n",
    "yfit = model.predict(xfit)\n",
    "\n",
    "plt.scatter(data['Speed'],data['Distance'],color=\"Black\")\n",
    "plt.plot(xfit, yfit); #plot the fitted line "
   ]
  },
  {
   "cell_type": "markdown",
   "metadata": {
    "id": "6mFWXSHn8Yuf"
   },
   "source": [
    "The slope and intercept of the data are contained in the model's fit parameters, which in Scikit-Learn are always marked by a trailing underscore.\n",
    "Here the relevant parameters are ``coef_`` and ``intercept_``:"
   ]
  },
  {
   "cell_type": "code",
   "execution_count": 4,
   "metadata": {
    "colab": {
     "base_uri": "https://localhost:8080/"
    },
    "id": "tDhMadmd8Yug",
    "outputId": "568c09a7-28ce-4fc6-f9e6-faafe9f6ad6b"
   },
   "outputs": [
    {
     "name": "stdout",
     "output_type": "stream",
     "text": [
      "Model slope:     14094.533879003317\n",
      "Model intercept: 2.4090787228899444\n"
     ]
    }
   ],
   "source": [
    "print(\"Model slope:    \", model.coef_[0])\n",
    "print(\"Model intercept:\", model.intercept_)"
   ]
  },
  {
   "cell_type": "markdown",
   "metadata": {
    "id": "vZ_hxNYD8Yug",
    "variables": {
     "round(model.coef_[0])": "14095"
    }
   },
   "source": [
    "### Conclusion\n",
    "Even with this simple approach and data set, our estimate of the age of the universe {{round(model.coef_[0])}} million years is pretty close to the scientistis estimate -- 13.8 billion years! "
   ]
  }
 ],
 "metadata": {
  "anaconda-cloud": {},
  "colab": {
   "name": "05.06-Linear-Regression.ipynb",
   "provenance": []
  },
  "kernelspec": {
   "display_name": "Python 3",
   "language": "python",
   "name": "python3"
  },
  "language_info": {
   "codemirror_mode": {
    "name": "ipython",
    "version": 3
   },
   "file_extension": ".py",
   "mimetype": "text/x-python",
   "name": "python",
   "nbconvert_exporter": "python",
   "pygments_lexer": "ipython3",
   "version": "3.7.3"
  }
 },
 "nbformat": 4,
 "nbformat_minor": 1
}
